{
 "cells": [
  {
   "cell_type": "markdown",
   "metadata": {},
   "source": [
    "## Part 1: Importing the libraries"
   ]
  },
  {
   "cell_type": "code",
   "execution_count": 35,
   "metadata": {},
   "outputs": [
    {
     "data": {
      "text/plain": [
       "'2.2.0'"
      ]
     },
     "execution_count": 35,
     "metadata": {},
     "output_type": "execute_result"
    }
   ],
   "source": [
    "import tensorflow as tf\n",
    "from tensorflow.keras.preprocessing.image import ImageDataGenerator, load_img, img_to_array\n",
    "from tensorflow.keras.models import Sequential\n",
    "from tensorflow.keras.layers import Conv2D, Dropout, Dense, MaxPool2D, Flatten\n",
    "import numpy as np \n",
    "tf.__version__"
   ]
  },
  {
   "cell_type": "markdown",
   "metadata": {},
   "source": [
    "## Part 2: Data Preprocessing"
   ]
  },
  {
   "cell_type": "code",
   "execution_count": 2,
   "metadata": {},
   "outputs": [
    {
     "name": "stdout",
     "output_type": "stream",
     "text": [
      "Found 8000 images belonging to 2 classes.\n"
     ]
    }
   ],
   "source": [
    "#Preprocessing the training set \n",
    "#image augmentation in training set to avoid overfitting\n",
    "train_datagen = ImageDataGenerator(rescale=1./255,\n",
    "                                  shear_range=0.2,\n",
    "                                  zoom_range=0.2,\n",
    "                                  horizontal_flip=True)\n",
    "training_set = train_datagen.flow_from_directory(\n",
    "    'dataset/training_set',\n",
    "    target_size=(64,64),\n",
    "    batch_size=32,\n",
    "    class_mode='binary')                                                 "
   ]
  },
  {
   "cell_type": "code",
   "execution_count": 3,
   "metadata": {},
   "outputs": [
    {
     "name": "stdout",
     "output_type": "stream",
     "text": [
      "Found 2000 images belonging to 2 classes.\n"
     ]
    }
   ],
   "source": [
    "#Preprocessing the test set\n",
    "test_datagen = ImageDataGenerator(rescale=1./255) #excluding other parameters as we do not want to manipulate test data\n",
    "test_set = test_datagen.flow_from_directory(\n",
    "    'dataset/test_set',\n",
    "    target_size=(64,64),\n",
    "    batch_size=32,\n",
    "    class_mode='binary')                                                 "
   ]
  },
  {
   "cell_type": "markdown",
   "metadata": {},
   "source": [
    "## Part 3: Building the CNN"
   ]
  },
  {
   "cell_type": "code",
   "execution_count": 19,
   "metadata": {},
   "outputs": [],
   "source": [
    "#Initializing the CNN\n",
    "cnn = Sequential()"
   ]
  },
  {
   "cell_type": "markdown",
   "metadata": {},
   "source": [
    "**Step 1 - Convolution**"
   ]
  },
  {
   "cell_type": "code",
   "execution_count": 20,
   "metadata": {},
   "outputs": [],
   "source": [
    "#third parameter in input shape stands for color scheme. 3 stands for RGB and 1 for grey scale images\n",
    "cnn.add(Conv2D(filters=32, kernel_size=3, activation='relu',input_shape = (64,64,3))) "
   ]
  },
  {
   "cell_type": "markdown",
   "metadata": {},
   "source": [
    "**Step 2 - Pooling**"
   ]
  },
  {
   "cell_type": "code",
   "execution_count": 21,
   "metadata": {},
   "outputs": [],
   "source": [
    "#third parameter in input shape stands for color scheme. 3 stands for RGB and 1 for grey scale images\n",
    "cnn.add(MaxPool2D(pool_size=(2,2),strides=(2,2),padding='valid')) "
   ]
  },
  {
   "cell_type": "markdown",
   "metadata": {},
   "source": [
    "**Adding a second convolutional layer**"
   ]
  },
  {
   "cell_type": "code",
   "execution_count": 22,
   "metadata": {},
   "outputs": [],
   "source": [
    "cnn.add(Conv2D(filters=32, kernel_size=3, activation='relu'))  #input_shape parameter is only valid for first layer"
   ]
  },
  {
   "cell_type": "markdown",
   "metadata": {},
   "source": [
    "**Step 3 - Flattening**"
   ]
  },
  {
   "cell_type": "code",
   "execution_count": 23,
   "metadata": {},
   "outputs": [],
   "source": [
    "cnn.add(Flatten())"
   ]
  },
  {
   "cell_type": "markdown",
   "metadata": {},
   "source": [
    "**Step 4 - Full Connection**"
   ]
  },
  {
   "cell_type": "code",
   "execution_count": 24,
   "metadata": {},
   "outputs": [],
   "source": [
    "cnn.add(Dense(units=128,activation='relu'))"
   ]
  },
  {
   "cell_type": "markdown",
   "metadata": {},
   "source": [
    "**Step 5 - Output Layer**"
   ]
  },
  {
   "cell_type": "code",
   "execution_count": 25,
   "metadata": {},
   "outputs": [],
   "source": [
    "cnn.add(Dense(units=1,activation='sigmoid')) #for multiclass we have to use softmax function, for binary - sigmoid"
   ]
  },
  {
   "cell_type": "markdown",
   "metadata": {},
   "source": [
    "## Part 4: Training the CNN model"
   ]
  },
  {
   "cell_type": "code",
   "execution_count": 26,
   "metadata": {},
   "outputs": [],
   "source": [
    "#Compiling the model\n",
    "cnn.compile(loss='binary_crossentropy',metrics=['accuracy'],optimizer='adam')"
   ]
  },
  {
   "cell_type": "code",
   "execution_count": 30,
   "metadata": {},
   "outputs": [
    {
     "name": "stdout",
     "output_type": "stream",
     "text": [
      "Epoch 1/25\n",
      "250/250 [==============================] - 422s 2s/step - loss: 0.6879 - accuracy: 0.5780 - val_loss: 0.6500 - val_accuracy: 0.6090\n",
      "Epoch 2/25\n",
      "250/250 [==============================] - 231s 924ms/step - loss: 0.6289 - accuracy: 0.6490 - val_loss: 0.7391 - val_accuracy: 0.5790\n",
      "Epoch 3/25\n",
      "250/250 [==============================] - 134s 537ms/step - loss: 0.5926 - accuracy: 0.6855 - val_loss: 0.5709 - val_accuracy: 0.7005\n",
      "Epoch 4/25\n",
      "250/250 [==============================] - 85s 340ms/step - loss: 0.5644 - accuracy: 0.7080 - val_loss: 0.5649 - val_accuracy: 0.7080\n",
      "Epoch 5/25\n",
      "250/250 [==============================] - 227s 909ms/step - loss: 0.5288 - accuracy: 0.7356 - val_loss: 0.5213 - val_accuracy: 0.7515\n",
      "Epoch 6/25\n",
      "250/250 [==============================] - 479s 2s/step - loss: 0.5121 - accuracy: 0.7483 - val_loss: 0.5014 - val_accuracy: 0.7560\n",
      "Epoch 7/25\n",
      "250/250 [==============================] - 629s 3s/step - loss: 0.4900 - accuracy: 0.7648 - val_loss: 0.5131 - val_accuracy: 0.7440\n",
      "Epoch 8/25\n",
      "250/250 [==============================] - 816s 3s/step - loss: 0.4664 - accuracy: 0.7759 - val_loss: 0.5070 - val_accuracy: 0.7515\n",
      "Epoch 9/25\n",
      "250/250 [==============================] - 850s 3s/step - loss: 0.4649 - accuracy: 0.7822 - val_loss: 0.4901 - val_accuracy: 0.7660\n",
      "Epoch 10/25\n",
      "250/250 [==============================] - 128s 510ms/step - loss: 0.4405 - accuracy: 0.7926 - val_loss: 0.5131 - val_accuracy: 0.7710\n",
      "Epoch 11/25\n",
      "250/250 [==============================] - 655s 3s/step - loss: 0.4278 - accuracy: 0.8001 - val_loss: 0.4722 - val_accuracy: 0.7840\n",
      "Epoch 12/25\n",
      "250/250 [==============================] - 335s 1s/step - loss: 0.4113 - accuracy: 0.8069 - val_loss: 0.4660 - val_accuracy: 0.7865\n",
      "Epoch 13/25\n",
      "250/250 [==============================] - 327s 1s/step - loss: 0.3959 - accuracy: 0.8191 - val_loss: 0.5092 - val_accuracy: 0.7680\n",
      "Epoch 14/25\n",
      "250/250 [==============================] - 445s 2s/step - loss: 0.3891 - accuracy: 0.8210 - val_loss: 0.4885 - val_accuracy: 0.7940\n",
      "Epoch 15/25\n",
      "250/250 [==============================] - 421s 2s/step - loss: 0.3808 - accuracy: 0.8279 - val_loss: 0.5294 - val_accuracy: 0.7495\n",
      "Epoch 16/25\n",
      "250/250 [==============================] - 417s 2s/step - loss: 0.3563 - accuracy: 0.8405 - val_loss: 0.5149 - val_accuracy: 0.7915\n",
      "Epoch 17/25\n",
      "250/250 [==============================] - 457s 2s/step - loss: 0.3587 - accuracy: 0.8404 - val_loss: 0.5008 - val_accuracy: 0.7875\n",
      "Epoch 18/25\n",
      "250/250 [==============================] - 139s 558ms/step - loss: 0.3397 - accuracy: 0.8495 - val_loss: 0.5030 - val_accuracy: 0.7745\n",
      "Epoch 19/25\n",
      "250/250 [==============================] - 77s 308ms/step - loss: 0.3325 - accuracy: 0.8501 - val_loss: 0.4789 - val_accuracy: 0.7885\n",
      "Epoch 20/25\n",
      "250/250 [==============================] - 306s 1s/step - loss: 0.3143 - accuracy: 0.8614 - val_loss: 0.4778 - val_accuracy: 0.8010\n",
      "Epoch 21/25\n",
      "250/250 [==============================] - 476s 2s/step - loss: 0.3180 - accuracy: 0.8605 - val_loss: 0.5266 - val_accuracy: 0.7745\n",
      "Epoch 22/25\n",
      "250/250 [==============================] - 355s 1s/step - loss: 0.2963 - accuracy: 0.8685 - val_loss: 0.5524 - val_accuracy: 0.7730\n",
      "Epoch 23/25\n",
      "250/250 [==============================] - 352s 1s/step - loss: 0.2832 - accuracy: 0.8816 - val_loss: 0.5300 - val_accuracy: 0.8000\n",
      "Epoch 24/25\n",
      "250/250 [==============================] - 340s 1s/step - loss: 0.2833 - accuracy: 0.8765 - val_loss: 0.5097 - val_accuracy: 0.7970\n",
      "Epoch 25/25\n",
      "250/250 [==============================] - 55s 220ms/step - loss: 0.2777 - accuracy: 0.8839 - val_loss: 0.5447 - val_accuracy: 0.7855\n"
     ]
    },
    {
     "data": {
      "text/plain": [
       "<tensorflow.python.keras.callbacks.History at 0x16cfc515cc8>"
      ]
     },
     "execution_count": 30,
     "metadata": {},
     "output_type": "execute_result"
    }
   ],
   "source": [
    "#Training\n",
    "cnn.fit(x=training_set, validation_data=test_set, epochs=25)"
   ]
  },
  {
   "cell_type": "markdown",
   "metadata": {},
   "source": [
    "## Part 5: Making the predictions and evaluating the model"
   ]
  },
  {
   "cell_type": "markdown",
   "metadata": {},
   "source": [
    "#### Predicting single new observation 1"
   ]
  },
  {
   "cell_type": "code",
   "execution_count": 33,
   "metadata": {},
   "outputs": [
    {
     "data": {
      "text/html": [
       "<img src=\"dataset/single_prediction/cat_or_dog_1.jpg\" width=\"500\" height=\"500\"/>"
      ],
      "text/plain": [
       "<IPython.core.display.Image object>"
      ]
     },
     "execution_count": 33,
     "metadata": {},
     "output_type": "execute_result"
    }
   ],
   "source": [
    "#let us see the image for ourselves first and then pass it to the model for prediction\n",
    "from IPython.display import Image\n",
    "from IPython.core.display import HTML \n",
    "Image(url= \"dataset/single_prediction/cat_or_dog_1.jpg\",width=500,height=500)"
   ]
  },
  {
   "cell_type": "code",
   "execution_count": 36,
   "metadata": {},
   "outputs": [
    {
     "data": {
      "text/plain": [
       "{'cats': 0, 'dogs': 1}"
      ]
     },
     "execution_count": 36,
     "metadata": {},
     "output_type": "execute_result"
    }
   ],
   "source": [
    "test_image = load_img('dataset/single_prediction/cat_or_dog_1.jpg', target_size = (64,64))\n",
    "#convert the image pil format to an array for passing to predict method\n",
    "test_image = img_to_array(test_image)\n",
    "\n",
    "#images are sent to the model in a batch. Hence, we need to add this single image as first dimension of a batch\n",
    "test_image = np.expand_dims(test_image, axis=0) #0 denotes first dimension i.e. first item in the batch\n",
    "result = cnn.predict(test_image)\n",
    "training_set.class_indices #will return what does 0 and 1 stand for (cat or dog)"
   ]
  },
  {
   "cell_type": "code",
   "execution_count": 37,
   "metadata": {},
   "outputs": [
    {
     "name": "stdout",
     "output_type": "stream",
     "text": [
      "dog\n"
     ]
    }
   ],
   "source": [
    "if result[0][0] == 1:\n",
    "    #first 0 indicates first batch and second 0 indicates the single element of the batch (i.e. the prediction)\n",
    "    prediction = 'dog'\n",
    "else:\n",
    "    prediction = 'cat'\n",
    "print(prediction)"
   ]
  },
  {
   "cell_type": "markdown",
   "metadata": {},
   "source": [
    "#### Predicting single new observation 2"
   ]
  },
  {
   "cell_type": "code",
   "execution_count": 38,
   "metadata": {},
   "outputs": [
    {
     "data": {
      "text/html": [
       "<img src=\"dataset/single_prediction/cat_or_dog_3.jpg\" width=\"500\" height=\"500\"/>"
      ],
      "text/plain": [
       "<IPython.core.display.Image object>"
      ]
     },
     "execution_count": 38,
     "metadata": {},
     "output_type": "execute_result"
    }
   ],
   "source": [
    "#Trying another picture downloaded from internet\n",
    "from IPython.display import Image\n",
    "from IPython.core.display import HTML \n",
    "Image(url= \"dataset/single_prediction/cat_or_dog_3.jpg\",width=500,height=500)"
   ]
  },
  {
   "cell_type": "code",
   "execution_count": 39,
   "metadata": {},
   "outputs": [
    {
     "name": "stdout",
     "output_type": "stream",
     "text": [
      "dog\n"
     ]
    }
   ],
   "source": [
    "test_image = load_img('dataset/single_prediction/cat_or_dog_3.jpg', target_size = (64,64))\n",
    "#convert the image pil format to an array for passing to predict method\n",
    "test_image = img_to_array(test_image)\n",
    "\n",
    "#images are sent to the model in a batch. Hence, we need to add this single image as first dimension of a batch\n",
    "test_image = np.expand_dims(test_image, axis=0) #0 denotes first dimension i.e. first item in the batch\n",
    "result = cnn.predict(test_image)\n",
    "training_set.class_indices #will return what does 0 and 1 stand for (cat or dog)\n",
    "\n",
    "if result[0][0] == 1:\n",
    "    #first 0 indicates first batch and second 0 indicates the single element of the batch (i.e. the prediction)\n",
    "    prediction = 'dog'\n",
    "else:\n",
    "    prediction = 'cat'\n",
    "\n",
    "print(prediction)"
   ]
  },
  {
   "cell_type": "markdown",
   "metadata": {},
   "source": [
    "Our model could not predict the second picture correctly because the cat's face could hardly be seen"
   ]
  },
  {
   "cell_type": "markdown",
   "metadata": {},
   "source": [
    " **Note:** This code file was reproduced as a follow-along of the ML course - https://www.udemy.com/course/machinelearning/"
   ]
  }
 ],
 "metadata": {
  "kernelspec": {
   "display_name": "Python 3",
   "language": "python",
   "name": "python3"
  },
  "language_info": {
   "codemirror_mode": {
    "name": "ipython",
    "version": 3
   },
   "file_extension": ".py",
   "mimetype": "text/x-python",
   "name": "python",
   "nbconvert_exporter": "python",
   "pygments_lexer": "ipython3",
   "version": "3.7.7"
  }
 },
 "nbformat": 4,
 "nbformat_minor": 4
}
