{
 "cells": [
  {
   "cell_type": "markdown",
   "metadata": {},
   "source": [
    "# Importing libraries and all datasets"
   ]
  },
  {
   "cell_type": "code",
   "execution_count": 625,
   "metadata": {},
   "outputs": [],
   "source": [
    "import numpy as np\n",
    "import pandas as pd\n",
    "import matplotlib.pyplot as plt\n",
    "import seaborn as sns\n",
    "\n",
    "import warnings\n",
    "warnings.filterwarnings('ignore')"
   ]
  },
  {
   "cell_type": "code",
   "execution_count": 626,
   "metadata": {},
   "outputs": [],
   "source": [
    "%matplotlib inline"
   ]
  },
  {
   "cell_type": "code",
   "execution_count": 627,
   "metadata": {},
   "outputs": [],
   "source": [
    "train = pd.read_csv('Train.csv')\n",
    "test = pd.read_csv('test_l0Auv8Q.csv')\n",
    "\n",
    "#Importing all other datasets that we will be merging with the base train and test tables \n",
    "\n",
    "first_camp = pd.read_csv('First_Health_Camp_Attended.csv')\n",
    "second_camp = pd.read_csv('Second_Health_Camp_Attended.csv')\n",
    "third_camp = pd.read_csv('Third_Health_Camp_Attended.csv')\n",
    "camp_details = pd.read_csv('Health_Camp_Detail.csv')\n",
    "patient_profile = pd.read_csv('Patient_Profile.csv')"
   ]
  },
  {
   "cell_type": "code",
   "execution_count": 628,
   "metadata": {},
   "outputs": [
    {
     "name": "stdout",
     "output_type": "stream",
     "text": [
      "train (75278, 8)\n",
      "\n",
      "test (35249, 8)\n",
      "\n",
      "first camp (6218, 5)\n",
      "\n",
      "second camp (7819, 3)\n",
      "\n",
      "third camp (6515, 4)\n",
      "\n",
      "camp details (65, 6)\n",
      "\n",
      "patient profile (37633, 11)\n"
     ]
    }
   ],
   "source": [
    "print('train',train.shape)\n",
    "print()\n",
    "print('test',test.shape)\n",
    "print()\n",
    "print('first camp',first_camp.shape)\n",
    "print()\n",
    "print('second camp',second_camp.shape)\n",
    "print()\n",
    "print('third camp',third_camp.shape)\n",
    "print()\n",
    "print('camp details',camp_details.shape)\n",
    "print()\n",
    "print('patient profile',patient_profile.shape)"
   ]
  },
  {
   "cell_type": "code",
   "execution_count": 629,
   "metadata": {},
   "outputs": [
    {
     "name": "stdout",
     "output_type": "stream",
     "text": [
      "train ['Patient_ID', 'Health_Camp_ID', 'Registration_Date', 'Var1', 'Var2', 'Var3', 'Var4', 'Var5']\n",
      "\n",
      "test ['Patient_ID', 'Health_Camp_ID', 'Registration_Date', 'Var1', 'Var2', 'Var3', 'Var4', 'Var5']\n",
      "\n",
      "first camp ['Patient_ID', 'Health_Camp_ID', 'Donation', 'Health_Score', 'Unnamed: 4']\n",
      "\n",
      "second camp ['Patient_ID', 'Health_Camp_ID', 'Health Score']\n",
      "\n",
      "third camp ['Patient_ID', 'Health_Camp_ID', 'Number_of_stall_visited', 'Last_Stall_Visited_Number']\n",
      "\n",
      "camp details ['Health_Camp_ID', 'Camp_Start_Date', 'Camp_End_Date', 'Category1', 'Category2', 'Category3']\n",
      "\n",
      "patient profile ['Patient_ID', 'Online_Follower', 'LinkedIn_Shared', 'Twitter_Shared', 'Facebook_Shared', 'Income', 'Education_Score', 'Age', 'First_Interaction', 'City_Type', 'Employer_Category']\n"
     ]
    }
   ],
   "source": [
    "print('train',train.columns.to_list())\n",
    "print()\n",
    "print('test',test.columns.to_list())\n",
    "print()\n",
    "print('first camp',first_camp.columns.to_list())\n",
    "print()\n",
    "print('second camp',second_camp.columns.to_list())\n",
    "print()\n",
    "print('third camp',third_camp.columns.to_list())\n",
    "print()\n",
    "print('camp details',camp_details.columns.to_list())\n",
    "print()\n",
    "print('patient profile',patient_profile.columns.to_list())"
   ]
  },
  {
   "cell_type": "markdown",
   "metadata": {},
   "source": [
    "# Data Pre-Processing"
   ]
  },
  {
   "cell_type": "markdown",
   "metadata": {},
   "source": [
    "**Roadmap for pre-processing:** \n",
    "Here, we have to merge all the tables in such a way that our train and test tables will respectively have the following columns -\n",
    "1. Data Merging: Patient ID can be used as the primary key to join all the tables together, except to extract camp details we will have to use the camp ID as the foreign key\n",
    "    - Patient Profile - All variables from the patient profile dataframe\n",
    "    - First camp details - yes/no, Donation, camp start date, camp end date, category of the camp, Health_score (target variable)\n",
    "    - Second camp details - yes/no, camp start date, camp end date, category of the camp, Health_score (target variable)\n",
    "    - Third camp details - yes/no, last stall visited number, number of stalls visited (target variable)\n",
    "    \n",
    "2. Treating null values\n",
    "\n",
    "3. Treating outliers \n",
    "\n",
    "and so on.."
   ]
  },
  {
   "cell_type": "code",
   "execution_count": 630,
   "metadata": {},
   "outputs": [],
   "source": [
    "mergeddf = pd.merge(train,first_camp, on=['Patient_ID','Health_Camp_ID'], how='left')\n",
    "mergeddf2 = pd.merge(mergeddf,second_camp, on=['Patient_ID','Health_Camp_ID'], how='left')\n",
    "mergeddf3 = pd.merge(mergeddf2,third_camp, on=['Patient_ID','Health_Camp_ID'], how='left')"
   ]
  },
  {
   "cell_type": "code",
   "execution_count": 631,
   "metadata": {},
   "outputs": [],
   "source": [
    "train_target = mergeddf3.copy()\n",
    "train_target.drop(['Donation','Unnamed: 4','Last_Stall_Visited_Number'],axis=1,inplace=True)\n",
    "\n",
    "train_target['Outcome'] = np.where((train_target['Health_Score']>0) |\n",
    "                                 (train_target['Health Score']>0) |\n",
    "                                 (train_target['Number_of_stall_visited']>0), \n",
    "                                 1, 0)\n",
    "\n",
    "train_target.drop(['Health_Score','Health Score','Number_of_stall_visited'],axis=1,inplace=True)"
   ]
  },
  {
   "cell_type": "code",
   "execution_count": 632,
   "metadata": {},
   "outputs": [
    {
     "data": {
      "text/plain": [
       "Patient_ID             0\n",
       "Health_Camp_ID         0\n",
       "Registration_Date    334\n",
       "Var1                   0\n",
       "Var2                   0\n",
       "Var3                   0\n",
       "Var4                   0\n",
       "Var5                   0\n",
       "Outcome                0\n",
       "dtype: int64"
      ]
     },
     "execution_count": 632,
     "metadata": {},
     "output_type": "execute_result"
    }
   ],
   "source": [
    "train_target.isna().sum()"
   ]
  },
  {
   "cell_type": "code",
   "execution_count": 633,
   "metadata": {},
   "outputs": [],
   "source": [
    "train_target.dropna(axis=0,inplace=True)"
   ]
  },
  {
   "cell_type": "markdown",
   "metadata": {},
   "source": [
    "**Adding registration month and date column**"
   ]
  },
  {
   "cell_type": "code",
   "execution_count": 634,
   "metadata": {},
   "outputs": [],
   "source": [
    "#Converting string to date time format\n",
    "train_target['Registration_Date'] = pd.to_datetime(train_target['Registration_Date'])\n",
    "\n",
    "train_target['Reg_Month'] = pd.DatetimeIndex(train_target['Registration_Date']).month.astype('object')\n",
    "train_target['Reg_Day'] = pd.DatetimeIndex(train_target['Registration_Date']).day.astype('object')"
   ]
  },
  {
   "cell_type": "markdown",
   "metadata": {},
   "source": [
    "**Adding variables from the camp details dataset**"
   ]
  },
  {
   "cell_type": "code",
   "execution_count": 635,
   "metadata": {},
   "outputs": [],
   "source": [
    "final_train = pd.merge(train_target,camp_details,on='Health_Camp_ID',how='left')\n",
    "\n",
    "#Converting camp start and end dates to datetime object\n",
    "\n",
    "final_train['Camp_Start_Date'] = pd.to_datetime(final_train['Camp_Start_Date'])\n",
    "final_train['Camp_End_Date'] = pd.to_datetime(final_train['Camp_End_Date'])\n",
    "\n",
    "#Adding month and day columns for camp start and end date\n",
    "final_train['Campstart_Month'] = pd.DatetimeIndex(final_train['Camp_Start_Date']).month.astype('object')\n",
    "final_train['Campstart_Day'] = pd.DatetimeIndex(final_train['Camp_Start_Date']).day.astype('object')\n",
    "final_train['Campend_Month'] = pd.DatetimeIndex(final_train['Camp_End_Date']).month.astype('object')\n",
    "final_train['Campend_Day'] = pd.DatetimeIndex(final_train['Camp_End_Date']).day.astype('object')\n",
    "\n",
    "#Adding some more features\n",
    "final_train['Reg_Camp_gap'] = (final_train['Camp_End_Date'] - final_train['Registration_Date']).astype('str')\n",
    "final_train['Camp_duration'] = (final_train['Camp_End_Date'] - final_train['Camp_Start_Date']).astype('str')\n",
    "#Keeping only days\n",
    "final_train['Reg_Camp_gap'] = final_train['Reg_Camp_gap'].apply(lambda x: str.split(x)[0])\n",
    "final_train['Camp_duration'] = final_train['Camp_duration'].apply(lambda x: str.split(x)[0])\n",
    "#Converting it to a continuous numeric variable\n",
    "final_train['Reg_Camp_gap'] = final_train['Reg_Camp_gap'].astype('int64')\n",
    "final_train['Camp_duration'] = final_train['Camp_duration'].astype('int64')"
   ]
  },
  {
   "cell_type": "markdown",
   "metadata": {},
   "source": [
    "**Adding patient profile characteristics**"
   ]
  },
  {
   "cell_type": "code",
   "execution_count": 636,
   "metadata": {},
   "outputs": [],
   "source": [
    "final_train = final_train.merge(patient_profile,how='left',on='Patient_ID')\n",
    "\n",
    "profile = ['Online_Follower','LinkedIn_Shared', 'Twitter_Shared', 'Facebook_Shared', 'Income',\n",
    "             'Education_Score', 'Age', 'First_Interaction', 'City_Type','Employer_Category']\n",
    "\n",
    "#Treating missing values\n",
    "final_train[profile] = final_train[profile].replace(0,np.nan)\n",
    "final_train[profile] = final_train[profile].replace('None',np.nan)\n",
    "final_train['Age'] = final_train['Age'].astype('float')\n",
    "final_train['Age'].fillna(final_train['Age'].mean(),inplace=True)\n",
    "final_train['City_Type'].fillna('None',inplace=True)\n",
    "final_train['Income'].fillna(0,inplace=True)"
   ]
  },
  {
   "cell_type": "code",
   "execution_count": 637,
   "metadata": {},
   "outputs": [
    {
     "data": {
      "text/plain": [
       "Online_Follower      94.434511\n",
       "LinkedIn_Shared      93.435098\n",
       "Twitter_Shared       94.701377\n",
       "Facebook_Shared      94.441183\n",
       "Income                0.000000\n",
       "Education_Score      86.819492\n",
       "Age                   0.000000\n",
       "First_Interaction     0.000000\n",
       "City_Type             0.000000\n",
       "Employer_Category    79.896990\n",
       "dtype: float64"
      ]
     },
     "execution_count": 637,
     "metadata": {},
     "output_type": "execute_result"
    }
   ],
   "source": [
    "final_train[profile].isna().sum()/final_train.shape[0]*100"
   ]
  },
  {
   "cell_type": "code",
   "execution_count": 638,
   "metadata": {},
   "outputs": [],
   "source": [
    "#Converting first interaction date to datetime object\n",
    "final_train['First_Interaction'] = pd.to_datetime(final_train['First_Interaction'])\n",
    "\n",
    "#Adding some more features\n",
    "final_train['IntReg_Lag'] = (final_train['Registration_Date'] - final_train['First_Interaction']).astype('str')\n",
    "#Keeping only days\n",
    "final_train['IntReg_Lag'] = final_train['IntReg_Lag'].apply(lambda x: str.split(x)[0])\n",
    "#Converting it to a continuous numeric variable\n",
    "final_train['IntReg_Lag'] = final_train['IntReg_Lag'].astype('int64')"
   ]
  },
  {
   "cell_type": "markdown",
   "metadata": {},
   "source": [
    "# EDA"
   ]
  },
  {
   "cell_type": "code",
   "execution_count": 639,
   "metadata": {},
   "outputs": [
    {
     "data": {
      "image/png": "[encoded data removed]",
      "text/plain": [
       "<Figure size 432x288 with 1 Axes>"
      ]
     },
     "metadata": {
      "needs_background": "light"
     },
     "output_type": "display_data"
    },
    {
     "data": {
      "image/png": "[encoded data removed]",
      "text/plain": [
       "<Figure size 432x288 with 1 Axes>"
      ]
     },
     "metadata": {
      "needs_background": "light"
     },
     "output_type": "display_data"
    },
    {
     "data": {
      "image/png": "[encoded data removed]",
      "text/plain": [
       "<Figure size 432x288 with 1 Axes>"
      ]
     },
     "metadata": {
      "needs_background": "light"
     },
     "output_type": "display_data"
    },
    {
     "data": {
      "image/png": "[encoded data removed]",
      "text/plain": [
       "<Figure size 432x288 with 1 Axes>"
      ]
     },
     "metadata": {
      "needs_background": "light"
     },
     "output_type": "display_data"
    }
   ],
   "source": [
    "for i in ['Var1','Var2','Var3','Var4']:\n",
    "    sns.boxplot(x='Outcome',y=i,data=final_train)\n",
    "    plt.show()"
   ]
  },
  {
   "cell_type": "code",
   "execution_count": 640,
   "metadata": {},
   "outputs": [
    {
     "name": "stdout",
     "output_type": "stream",
     "text": [
      "21.92813564151691\n",
      "28.67491485537422\n",
      "51.70762834354355\n",
      "10.760709109861883\n"
     ]
    }
   ],
   "source": [
    "for i in ['Var1','Var2','Var3','Var4']:\n",
    "    print(final_train[i].skew())"
   ]
  },
  {
   "cell_type": "markdown",
   "metadata": {},
   "source": [
    "Our anonymized variables are largely skewed. Hence, we will have to compulsorily apply a log transformation before we proceed with model training "
   ]
  },
  {
   "cell_type": "markdown",
   "metadata": {},
   "source": [
    "# Data Transformation"
   ]
  },
  {
   "cell_type": "code",
   "execution_count": 641,
   "metadata": {},
   "outputs": [
    {
     "data": {
      "text/plain": [
       "Index(['Patient_ID', 'Health_Camp_ID', 'Registration_Date', 'Var1', 'Var2',\n",
       "       'Var3', 'Var4', 'Var5', 'Outcome', 'Reg_Month', 'Reg_Day',\n",
       "       'Camp_Start_Date', 'Camp_End_Date', 'Category1', 'Category2',\n",
       "       'Category3', 'Campstart_Month', 'Campstart_Day', 'Campend_Month',\n",
       "       'Campend_Day', 'Reg_Camp_gap', 'Camp_duration', 'Online_Follower',\n",
       "       'LinkedIn_Shared', 'Twitter_Shared', 'Facebook_Shared', 'Income',\n",
       "       'Education_Score', 'Age', 'First_Interaction', 'City_Type',\n",
       "       'Employer_Category', 'IntReg_Lag'],\n",
       "      dtype='object')"
      ]
     },
     "execution_count": 641,
     "metadata": {},
     "output_type": "execute_result"
    }
   ],
   "source": [
    "final_train.columns"
   ]
  },
  {
   "cell_type": "code",
   "execution_count": 642,
   "metadata": {},
   "outputs": [],
   "source": [
    "X = final_train[['Var1','Var2','Var5','Reg_Camp_gap','IntReg_Lag','Camp_duration','Age','Category1','Category2']]\n",
    "y = final_train['Outcome']"
   ]
  },
  {
   "cell_type": "code",
   "execution_count": 643,
   "metadata": {},
   "outputs": [],
   "source": [
    "col2use = list(X.columns)"
   ]
  },
  {
   "cell_type": "code",
   "execution_count": 644,
   "metadata": {},
   "outputs": [
    {
     "data": {
      "text/html": [
       "<div>\n",
       "<style scoped>\n",
       "    .dataframe tbody tr th:only-of-type {\n",
       "        vertical-align: middle;\n",
       "    }\n",
       "\n",
       "    .dataframe tbody tr th {\n",
       "        vertical-align: top;\n",
       "    }\n",
       "\n",
       "    .dataframe thead th {\n",
       "        text-align: right;\n",
       "    }\n",
       "</style>\n",
       "<table border=\"1\" class=\"dataframe\">\n",
       "  <thead>\n",
       "    <tr style=\"text-align: right;\">\n",
       "      <th></th>\n",
       "      <th>Var1</th>\n",
       "      <th>Var2</th>\n",
       "      <th>Var5</th>\n",
       "      <th>Reg_Camp_gap</th>\n",
       "      <th>IntReg_Lag</th>\n",
       "      <th>Camp_duration</th>\n",
       "      <th>Age</th>\n",
       "      <th>Category1</th>\n",
       "      <th>Category2</th>\n",
       "    </tr>\n",
       "  </thead>\n",
       "  <tbody>\n",
       "    <tr>\n",
       "      <th>0</th>\n",
       "      <td>4</td>\n",
       "      <td>0</td>\n",
       "      <td>2</td>\n",
       "      <td>34</td>\n",
       "      <td>278</td>\n",
       "      <td>59</td>\n",
       "      <td>47.914865</td>\n",
       "      <td>Third</td>\n",
       "      <td>G</td>\n",
       "    </tr>\n",
       "    <tr>\n",
       "      <th>1</th>\n",
       "      <td>45</td>\n",
       "      <td>5</td>\n",
       "      <td>7</td>\n",
       "      <td>57</td>\n",
       "      <td>344</td>\n",
       "      <td>59</td>\n",
       "      <td>40.000000</td>\n",
       "      <td>Third</td>\n",
       "      <td>G</td>\n",
       "    </tr>\n",
       "    <tr>\n",
       "      <th>2</th>\n",
       "      <td>0</td>\n",
       "      <td>0</td>\n",
       "      <td>0</td>\n",
       "      <td>557</td>\n",
       "      <td>676</td>\n",
       "      <td>751</td>\n",
       "      <td>47.914865</td>\n",
       "      <td>Second</td>\n",
       "      <td>A</td>\n",
       "    </tr>\n",
       "    <tr>\n",
       "      <th>3</th>\n",
       "      <td>0</td>\n",
       "      <td>0</td>\n",
       "      <td>0</td>\n",
       "      <td>11</td>\n",
       "      <td>0</td>\n",
       "      <td>17</td>\n",
       "      <td>47.914865</td>\n",
       "      <td>First</td>\n",
       "      <td>E</td>\n",
       "    </tr>\n",
       "    <tr>\n",
       "      <th>4</th>\n",
       "      <td>15</td>\n",
       "      <td>1</td>\n",
       "      <td>7</td>\n",
       "      <td>34</td>\n",
       "      <td>970</td>\n",
       "      <td>4</td>\n",
       "      <td>40.000000</td>\n",
       "      <td>Second</td>\n",
       "      <td>A</td>\n",
       "    </tr>\n",
       "  </tbody>\n",
       "</table>\n",
       "</div>"
      ],
      "text/plain": [
       "   Var1  Var2  Var5  Reg_Camp_gap  IntReg_Lag  Camp_duration        Age  \\\n",
       "0     4     0     2            34         278             59  47.914865   \n",
       "1    45     5     7            57         344             59  40.000000   \n",
       "2     0     0     0           557         676            751  47.914865   \n",
       "3     0     0     0            11           0             17  47.914865   \n",
       "4    15     1     7            34         970              4  40.000000   \n",
       "\n",
       "  Category1 Category2  \n",
       "0     Third         G  \n",
       "1     Third         G  \n",
       "2    Second         A  \n",
       "3     First         E  \n",
       "4    Second         A  "
      ]
     },
     "execution_count": 644,
     "metadata": {},
     "output_type": "execute_result"
    }
   ],
   "source": [
    "X.head()"
   ]
  },
  {
   "cell_type": "code",
   "execution_count": 645,
   "metadata": {},
   "outputs": [
    {
     "name": "stdout",
     "output_type": "stream",
     "text": [
      "<class 'pandas.core.frame.DataFrame'>\n",
      "Int64Index: 74944 entries, 0 to 74943\n",
      "Data columns (total 9 columns):\n",
      "Var1             74944 non-null int64\n",
      "Var2             74944 non-null int64\n",
      "Var5             74944 non-null int64\n",
      "Reg_Camp_gap     74944 non-null int64\n",
      "IntReg_Lag       74944 non-null int64\n",
      "Camp_duration    74944 non-null int64\n",
      "Age              74944 non-null float64\n",
      "Category1        74944 non-null object\n",
      "Category2        74944 non-null object\n",
      "dtypes: float64(1), int64(6), object(2)\n",
      "memory usage: 8.2+ MB\n"
     ]
    }
   ],
   "source": [
    "X.info()"
   ]
  },
  {
   "cell_type": "code",
   "execution_count": 646,
   "metadata": {},
   "outputs": [
    {
     "data": {
      "image/png": "[encoded data removed]",
      "text/plain": [
       "<Figure size 432x288 with 1 Axes>"
      ]
     },
     "metadata": {
      "needs_background": "light"
     },
     "output_type": "display_data"
    },
    {
     "data": {
      "image/png": "[encoded data removed]",
      "text/plain": [
       "<Figure size 432x288 with 1 Axes>"
      ]
     },
     "metadata": {
      "needs_background": "light"
     },
     "output_type": "display_data"
    },
    {
     "data": {
      "image/png": "[encoded data removed]",
      "text/plain": [
       "<Figure size 432x288 with 1 Axes>"
      ]
     },
     "metadata": {
      "needs_background": "light"
     },
     "output_type": "display_data"
    },
    {
     "data": {
      "image/png": "[encoded data removed]",
      "text/plain": [
       "<Figure size 432x288 with 1 Axes>"
      ]
     },
     "metadata": {
      "needs_background": "light"
     },
     "output_type": "display_data"
    },
    {
     "data": {
      "image/png": "[encoded data removed]",
      "text/plain": [
       "<Figure size 432x288 with 1 Axes>"
      ]
     },
     "metadata": {
      "needs_background": "light"
     },
     "output_type": "display_data"
    },
    {
     "data": {
      "image/png": "[encoded data removed]",
      "text/plain": [
       "<Figure size 432x288 with 1 Axes>"
      ]
     },
     "metadata": {
      "needs_background": "light"
     },
     "output_type": "display_data"
    }
   ],
   "source": [
    "for i in num_cols:\n",
    "    plt.hist(X[i])\n",
    "    plt.title(i)\n",
    "    plt.show()"
   ]
  },
  {
   "cell_type": "code",
   "execution_count": 647,
   "metadata": {},
   "outputs": [
    {
     "name": "stdout",
     "output_type": "stream",
     "text": [
      "['Var1', 'Var2', 'Var5', 'Reg_Camp_gap', 'IntReg_Lag', 'Camp_duration']\n"
     ]
    }
   ],
   "source": [
    "X = pd.get_dummies(X,drop_first=True)\n",
    "\n",
    "num_cols = X.select_dtypes(include='int64').columns.to_list()\n",
    "print(num_cols)\n",
    "\n",
    "# Log transformation\n",
    "# for i in num_cols:\n",
    "#     X[i] = np.log(X[i] + 1)\n",
    "    \n",
    "# Normalisation\n",
    "# from sklearn.preprocessing import StandardScaler\n",
    "# sc = StandardScaler()\n",
    "# X[num_cols] = sc.fit_transform(X[num_cols])"
   ]
  },
  {
   "cell_type": "markdown",
   "metadata": {},
   "source": [
    "### RFC"
   ]
  },
  {
   "cell_type": "code",
   "execution_count": 648,
   "metadata": {},
   "outputs": [],
   "source": [
    "from sklearn.model_selection import train_test_split\n",
    "X_train, X_val, y_train, y_val = train_test_split(X,y,test_size=0.25,random_state=42)"
   ]
  },
  {
   "cell_type": "code",
   "execution_count": 649,
   "metadata": {},
   "outputs": [],
   "source": [
    "from sklearn.ensemble import RandomForestClassifier\n",
    "rf = RandomForestClassifier(random_state=101)"
   ]
  },
  {
   "cell_type": "code",
   "execution_count": 650,
   "metadata": {},
   "outputs": [
    {
     "data": {
      "text/plain": [
       "RandomForestClassifier(random_state=101)"
      ]
     },
     "execution_count": 650,
     "metadata": {},
     "output_type": "execute_result"
    }
   ],
   "source": [
    "rf.fit(X_train,y_train)"
   ]
  },
  {
   "cell_type": "code",
   "execution_count": 651,
   "metadata": {},
   "outputs": [],
   "source": [
    "y_pred = rf.predict_proba(X_val)"
   ]
  },
  {
   "cell_type": "code",
   "execution_count": 652,
   "metadata": {},
   "outputs": [
    {
     "data": {
      "text/plain": [
       "0.8380285765947231"
      ]
     },
     "execution_count": 652,
     "metadata": {},
     "output_type": "execute_result"
    }
   ],
   "source": [
    "from sklearn.metrics import roc_auc_score\n",
    "roc_auc_score(y_val,y_pred[:,1])"
   ]
  },
  {
   "cell_type": "code",
   "execution_count": 653,
   "metadata": {},
   "outputs": [],
   "source": [
    "rffeature_importances = pd.DataFrame(rf.feature_importances_,index = X.columns,\n",
    "                                   columns=['importance']).sort_values('importance',ascending=False)"
   ]
  },
  {
   "cell_type": "code",
   "execution_count": 654,
   "metadata": {},
   "outputs": [
    {
     "data": {
      "image/png": "[encoded data removed]",
      "text/plain": [
       "<Figure size 800x800 with 1 Axes>"
      ]
     },
     "metadata": {},
     "output_type": "display_data"
    }
   ],
   "source": [
    "num = min([50,len(list(X.columns))])\n",
    "ylocs = np.arange(num)\n",
    "# get the feature importance for top num and sort in reverse order\n",
    "values_to_plot = feature_importances.iloc[:num].values.ravel()[::-1]\n",
    "feature_labels = list(feature_importances.iloc[:num].index)[::-1]\n",
    "plt.figure(num=None, figsize=(10, 10), dpi=80, facecolor='w', edgecolor='k')\n",
    "plt.barh(ylocs, values_to_plot, align = 'center')\n",
    "plt.ylabel('Features')\n",
    "plt.xlabel('Importance Score')\n",
    "plt.title('Feature Importance Score — Random Forest')\n",
    "plt.yticks(ylocs, feature_labels)\n",
    "plt.show()"
   ]
  },
  {
   "cell_type": "markdown",
   "metadata": {},
   "source": [
    "### XGBC"
   ]
  },
  {
   "cell_type": "code",
   "execution_count": 655,
   "metadata": {},
   "outputs": [],
   "source": [
    "from xgboost import XGBClassifier\n",
    "xg = XGBClassifier(random_state=101)"
   ]
  },
  {
   "cell_type": "code",
   "execution_count": 656,
   "metadata": {},
   "outputs": [],
   "source": [
    "xg.fit(X_train,y_train)\n",
    "y_pred = xg.predict_proba(X_val)"
   ]
  },
  {
   "cell_type": "code",
   "execution_count": 657,
   "metadata": {},
   "outputs": [
    {
     "data": {
      "text/plain": [
       "0.8430275668169871"
      ]
     },
     "execution_count": 657,
     "metadata": {},
     "output_type": "execute_result"
    }
   ],
   "source": [
    "roc_auc_score(y_val,y_pred[:,1])"
   ]
  },
  {
   "cell_type": "code",
   "execution_count": 658,
   "metadata": {},
   "outputs": [],
   "source": [
    "xgfeature_importances = pd.DataFrame(xg.feature_importances_,index = X.columns,\n",
    "                                   columns=['xg_importance']).sort_values('xg_importance',ascending=False)"
   ]
  },
  {
   "cell_type": "code",
   "execution_count": 659,
   "metadata": {},
   "outputs": [],
   "source": [
    "y_pred_labels = xg.predict(X_val)"
   ]
  },
  {
   "cell_type": "code",
   "execution_count": 660,
   "metadata": {},
   "outputs": [
    {
     "data": {
      "image/png": "[encoded data removed]",
      "text/plain": [
       "<Figure size 800x800 with 1 Axes>"
      ]
     },
     "metadata": {},
     "output_type": "display_data"
    }
   ],
   "source": [
    "num = min([50,len(list(X.columns))])\n",
    "ylocs = np.arange(num)\n",
    "# get the feature importance for top num and sort in reverse order\n",
    "values_to_plot = xgfeature_importances.iloc[:num].values.ravel()[::-1]\n",
    "feature_labels = list(xgfeature_importances.iloc[:num].index)[::-1]\n",
    "plt.figure(num=None, figsize=(10, 10), dpi=80, facecolor='w', edgecolor='k')\n",
    "plt.barh(ylocs, values_to_plot, align = 'center')\n",
    "plt.ylabel('Features')\n",
    "plt.xlabel('Importance Score')\n",
    "plt.title('Feature Importance Score — XGBoostClassifier')\n",
    "plt.yticks(ylocs, feature_labels)\n",
    "plt.show()"
   ]
  },
  {
   "cell_type": "markdown",
   "metadata": {},
   "source": [
    "# Sample Submission"
   ]
  },
  {
   "cell_type": "code",
   "execution_count": 661,
   "metadata": {},
   "outputs": [
    {
     "data": {
      "text/html": [
       "<div>\n",
       "<style scoped>\n",
       "    .dataframe tbody tr th:only-of-type {\n",
       "        vertical-align: middle;\n",
       "    }\n",
       "\n",
       "    .dataframe tbody tr th {\n",
       "        vertical-align: top;\n",
       "    }\n",
       "\n",
       "    .dataframe thead th {\n",
       "        text-align: right;\n",
       "    }\n",
       "</style>\n",
       "<table border=\"1\" class=\"dataframe\">\n",
       "  <thead>\n",
       "    <tr style=\"text-align: right;\">\n",
       "      <th></th>\n",
       "      <th>Patient_ID</th>\n",
       "      <th>Health_Camp_ID</th>\n",
       "      <th>Registration_Date</th>\n",
       "      <th>Var1</th>\n",
       "      <th>Var2</th>\n",
       "      <th>Var3</th>\n",
       "      <th>Var4</th>\n",
       "      <th>Var5</th>\n",
       "    </tr>\n",
       "  </thead>\n",
       "  <tbody>\n",
       "    <tr>\n",
       "      <th>0</th>\n",
       "      <td>505701</td>\n",
       "      <td>6548</td>\n",
       "      <td>21-May-06</td>\n",
       "      <td>1</td>\n",
       "      <td>0</td>\n",
       "      <td>0</td>\n",
       "      <td>0</td>\n",
       "      <td>2</td>\n",
       "    </tr>\n",
       "    <tr>\n",
       "      <th>1</th>\n",
       "      <td>500633</td>\n",
       "      <td>6584</td>\n",
       "      <td>02-Jun-06</td>\n",
       "      <td>0</td>\n",
       "      <td>0</td>\n",
       "      <td>0</td>\n",
       "      <td>0</td>\n",
       "      <td>0</td>\n",
       "    </tr>\n",
       "    <tr>\n",
       "      <th>2</th>\n",
       "      <td>506945</td>\n",
       "      <td>6582</td>\n",
       "      <td>10-Aug-06</td>\n",
       "      <td>0</td>\n",
       "      <td>0</td>\n",
       "      <td>0</td>\n",
       "      <td>0</td>\n",
       "      <td>0</td>\n",
       "    </tr>\n",
       "    <tr>\n",
       "      <th>3</th>\n",
       "      <td>497447</td>\n",
       "      <td>6551</td>\n",
       "      <td>27-Aug-06</td>\n",
       "      <td>0</td>\n",
       "      <td>0</td>\n",
       "      <td>0</td>\n",
       "      <td>0</td>\n",
       "      <td>0</td>\n",
       "    </tr>\n",
       "    <tr>\n",
       "      <th>4</th>\n",
       "      <td>496446</td>\n",
       "      <td>6533</td>\n",
       "      <td>19-Sep-06</td>\n",
       "      <td>0</td>\n",
       "      <td>0</td>\n",
       "      <td>0</td>\n",
       "      <td>0</td>\n",
       "      <td>0</td>\n",
       "    </tr>\n",
       "  </tbody>\n",
       "</table>\n",
       "</div>"
      ],
      "text/plain": [
       "   Patient_ID  Health_Camp_ID Registration_Date  Var1  Var2  Var3  Var4  Var5\n",
       "0      505701            6548         21-May-06     1     0     0     0     2\n",
       "1      500633            6584         02-Jun-06     0     0     0     0     0\n",
       "2      506945            6582         10-Aug-06     0     0     0     0     0\n",
       "3      497447            6551         27-Aug-06     0     0     0     0     0\n",
       "4      496446            6533         19-Sep-06     0     0     0     0     0"
      ]
     },
     "execution_count": 661,
     "metadata": {},
     "output_type": "execute_result"
    }
   ],
   "source": [
    "test.head()"
   ]
  },
  {
   "cell_type": "code",
   "execution_count": 662,
   "metadata": {},
   "outputs": [
    {
     "data": {
      "text/plain": [
       "['Var1',\n",
       " 'Var2',\n",
       " 'Var5',\n",
       " 'Reg_Camp_gap',\n",
       " 'IntReg_Lag',\n",
       " 'Camp_duration',\n",
       " 'Age',\n",
       " 'Category1',\n",
       " 'Category2']"
      ]
     },
     "execution_count": 662,
     "metadata": {},
     "output_type": "execute_result"
    }
   ],
   "source": [
    "col2use"
   ]
  },
  {
   "cell_type": "code",
   "execution_count": 670,
   "metadata": {},
   "outputs": [
    {
     "name": "stdout",
     "output_type": "stream",
     "text": [
      "Patient_ID               0\n",
      "Health_Camp_ID           0\n",
      "Registration_Date        0\n",
      "Var1                     0\n",
      "Var2                     0\n",
      "Var3                     0\n",
      "Var4                     0\n",
      "Var5                     0\n",
      "Camp_Start_Date          0\n",
      "Camp_End_Date            0\n",
      "Category1                0\n",
      "Category2                0\n",
      "Category3                0\n",
      "Reg_Camp_gap             0\n",
      "Camp_duration            0\n",
      "Online_Follower          0\n",
      "LinkedIn_Shared          0\n",
      "Twitter_Shared           0\n",
      "Facebook_Shared          0\n",
      "Income                   0\n",
      "Education_Score          0\n",
      "Age                      0\n",
      "First_Interaction        0\n",
      "City_Type            13394\n",
      "Employer_Category    30888\n",
      "dtype: int64\n",
      "Patient_ID               0\n",
      "Health_Camp_ID           0\n",
      "Registration_Date        0\n",
      "Var1                     0\n",
      "Var2                     0\n",
      "Var3                     0\n",
      "Var4                     0\n",
      "Var5                     0\n",
      "Camp_Start_Date          0\n",
      "Camp_End_Date            0\n",
      "Category1                0\n",
      "Category2                0\n",
      "Category3                0\n",
      "Reg_Camp_gap             0\n",
      "Camp_duration            0\n",
      "Online_Follower      33413\n",
      "LinkedIn_Shared      33186\n",
      "Twitter_Shared       33565\n",
      "Facebook_Shared      33474\n",
      "Income               27796\n",
      "Education_Score      32822\n",
      "Age                  26313\n",
      "First_Interaction        0\n",
      "City_Type            13394\n",
      "Employer_Category    30888\n",
      "dtype: int64\n"
     ]
    }
   ],
   "source": [
    "#Converting string to date time format\n",
    "test['Registration_Date'] = pd.to_datetime(test['Registration_Date'])\n",
    "\n",
    "# test['Reg_Month'] = pd.DatetimeIndex(test['Registration_Date']).month.astype('object')\n",
    "# test['Reg_Day'] = pd.DatetimeIndex(test['Registration_Date']).day.astype('object')\n",
    "\n",
    "final_test = pd.merge(test,camp_details,on='Health_Camp_ID',how='left')\n",
    "\n",
    "#Camp-related attributes\n",
    "#Converting camp start and end dates to datetime object\n",
    "final_test['Camp_Start_Date'] = pd.to_datetime(final_test['Camp_Start_Date'])\n",
    "final_test['Camp_End_Date'] = pd.to_datetime(final_test['Camp_End_Date'])\n",
    "\n",
    "#Adding month and day columns for camp start and end date\n",
    "# final_test['Campstart_Month'] = pd.DatetimeIndex(final_test['Camp_Start_Date']).month.astype('object')\n",
    "# final_test['Campstart_Day'] = pd.DatetimeIndex(final_test['Camp_Start_Date']).day.astype('object')\n",
    "# final_test['Campend_Month'] = pd.DatetimeIndex(final_test['Camp_End_Date']).month.astype('object')\n",
    "# final_test['Campend_Day'] = pd.DatetimeIndex(final_test['Camp_End_Date']).day.astype('object')\n",
    "\n",
    "#Adding some more features\n",
    "final_test['Reg_Camp_gap'] = (final_test['Camp_End_Date'] - final_test['Registration_Date']).astype('str')\n",
    "final_test['Camp_duration'] = (final_test['Camp_End_Date'] - final_test['Camp_Start_Date']).astype('str')\n",
    "#Keeping only days\n",
    "final_test['Reg_Camp_gap'] = final_test['Reg_Camp_gap'].apply(lambda x: str.split(x)[0])\n",
    "final_test['Camp_duration'] = final_test['Camp_duration'].apply(lambda x: str.split(x)[0])\n",
    "#Converting it to a continuous numeric variable\n",
    "final_test['Reg_Camp_gap'] = final_test['Reg_Camp_gap'].astype('int64')\n",
    "final_test['Camp_duration'] = final_test['Camp_duration'].astype('int64')\n",
    "\n",
    "#Patient-related attributes\n",
    "final_test = final_test.merge(patient_profile,how='left',on='Patient_ID')\n",
    "\n",
    "profile = ['Online_Follower','LinkedIn_Shared', 'Twitter_Shared', 'Facebook_Shared', 'Income',\n",
    "             'Education_Score', 'Age', 'First_Interaction', 'City_Type','Employer_Category']\n",
    "\n",
    "print(final_test.isna().sum())\n",
    "\n",
    "#Treating missing values\n",
    "final_test[profile] = final_test[profile].replace(0,np.nan)\n",
    "final_test[profile] = final_test[profile].replace('None',np.nan)\n",
    "final_test['Age'] = final_test['Age'].astype('float')\n",
    "\n",
    "print(final_test.isna().sum())\n",
    "\n",
    "final_test['Age'].fillna(final_train['Age'].mean(),inplace=True)\n",
    "final_test['City_Type'].fillna('None',inplace=True)\n",
    "final_test['Income'].fillna(0,inplace=True)\n",
    "\n",
    "#Converting first interaction date to datetime object\n",
    "final_test['First_Interaction'] = pd.to_datetime(final_test['First_Interaction'])\n",
    "\n",
    "#Adding some more features\n",
    "final_test['IntReg_Lag'] = (final_test['Registration_Date'] - final_test['First_Interaction']).astype('str')\n",
    "#Keeping only days\n",
    "final_test['IntReg_Lag'] = final_test['IntReg_Lag'].apply(lambda x: str.split(x)[0])\n",
    "#Converting it to a continuous numeric variable\n",
    "final_test['IntReg_Lag'] = final_test['IntReg_Lag'].astype('int64')\n",
    "\n",
    "#Selecting variables for final run\n",
    "X_test = final_test[col2use]\n",
    "\n",
    "#Converting categorical vars to dummy variables\n",
    "# print(X_test.dtypes)\n",
    "X_test = pd.get_dummies(X_test,drop_first=True)\n",
    "\n",
    "#Log transformation\n",
    "# for i in num_cols:\n",
    "#     X_test[i] = np.log(X_test[i] + 1)\n",
    "    \n",
    "#Normalisation\n",
    "# X_test[num_cols] = sc.transform(X_test[num_cols])"
   ]
  },
  {
   "cell_type": "code",
   "execution_count": 671,
   "metadata": {},
   "outputs": [
    {
     "name": "stdout",
     "output_type": "stream",
     "text": [
      "(35249, 14) (74944, 15)\n",
      "(35249, 15) (74944, 15)\n"
     ]
    }
   ],
   "source": [
    "print(X_test.shape,X.shape)\n",
    "\n",
    "missing_cols = set(X.columns) - set(X_test.columns)\n",
    "for c in missing_cols:\n",
    "    X_test[c] = 0\n",
    "\n",
    "print(X_test.shape,X.shape)\n",
    "\n",
    "#keeping the order of columns same for X and X_test\n",
    "X_test = X_test[X.columns] "
   ]
  },
  {
   "cell_type": "code",
   "execution_count": 678,
   "metadata": {},
   "outputs": [
    {
     "data": {
      "text/html": [
       "<div>\n",
       "<style scoped>\n",
       "    .dataframe tbody tr th:only-of-type {\n",
       "        vertical-align: middle;\n",
       "    }\n",
       "\n",
       "    .dataframe tbody tr th {\n",
       "        vertical-align: top;\n",
       "    }\n",
       "\n",
       "    .dataframe thead th {\n",
       "        text-align: right;\n",
       "    }\n",
       "</style>\n",
       "<table border=\"1\" class=\"dataframe\">\n",
       "  <thead>\n",
       "    <tr style=\"text-align: right;\">\n",
       "      <th></th>\n",
       "      <th>Var1</th>\n",
       "      <th>Var2</th>\n",
       "      <th>Var5</th>\n",
       "      <th>Reg_Camp_gap</th>\n",
       "      <th>IntReg_Lag</th>\n",
       "      <th>Camp_duration</th>\n",
       "      <th>Age</th>\n",
       "      <th>Category1_Second</th>\n",
       "      <th>Category1_Third</th>\n",
       "      <th>Category2_B</th>\n",
       "      <th>Category2_C</th>\n",
       "      <th>Category2_D</th>\n",
       "      <th>Category2_E</th>\n",
       "      <th>Category2_F</th>\n",
       "      <th>Category2_G</th>\n",
       "    </tr>\n",
       "  </thead>\n",
       "  <tbody>\n",
       "    <tr>\n",
       "      <th>0</th>\n",
       "      <td>1</td>\n",
       "      <td>0</td>\n",
       "      <td>2</td>\n",
       "      <td>89</td>\n",
       "      <td>1201</td>\n",
       "      <td>66</td>\n",
       "      <td>44.000000</td>\n",
       "      <td>0</td>\n",
       "      <td>1</td>\n",
       "      <td>0</td>\n",
       "      <td>0</td>\n",
       "      <td>0</td>\n",
       "      <td>0</td>\n",
       "      <td>0</td>\n",
       "      <td>1</td>\n",
       "    </tr>\n",
       "    <tr>\n",
       "      <th>1</th>\n",
       "      <td>0</td>\n",
       "      <td>0</td>\n",
       "      <td>0</td>\n",
       "      <td>68</td>\n",
       "      <td>538</td>\n",
       "      <td>5</td>\n",
       "      <td>41.000000</td>\n",
       "      <td>1</td>\n",
       "      <td>0</td>\n",
       "      <td>0</td>\n",
       "      <td>0</td>\n",
       "      <td>0</td>\n",
       "      <td>0</td>\n",
       "      <td>0</td>\n",
       "      <td>0</td>\n",
       "    </tr>\n",
       "    <tr>\n",
       "      <th>2</th>\n",
       "      <td>0</td>\n",
       "      <td>0</td>\n",
       "      <td>0</td>\n",
       "      <td>454</td>\n",
       "      <td>113</td>\n",
       "      <td>580</td>\n",
       "      <td>47.914865</td>\n",
       "      <td>0</td>\n",
       "      <td>0</td>\n",
       "      <td>0</td>\n",
       "      <td>0</td>\n",
       "      <td>0</td>\n",
       "      <td>0</td>\n",
       "      <td>1</td>\n",
       "      <td>0</td>\n",
       "    </tr>\n",
       "    <tr>\n",
       "      <th>3</th>\n",
       "      <td>0</td>\n",
       "      <td>0</td>\n",
       "      <td>0</td>\n",
       "      <td>83</td>\n",
       "      <td>2</td>\n",
       "      <td>5</td>\n",
       "      <td>47.000000</td>\n",
       "      <td>1</td>\n",
       "      <td>0</td>\n",
       "      <td>0</td>\n",
       "      <td>0</td>\n",
       "      <td>1</td>\n",
       "      <td>0</td>\n",
       "      <td>0</td>\n",
       "      <td>0</td>\n",
       "    </tr>\n",
       "    <tr>\n",
       "      <th>4</th>\n",
       "      <td>0</td>\n",
       "      <td>0</td>\n",
       "      <td>0</td>\n",
       "      <td>4</td>\n",
       "      <td>0</td>\n",
       "      <td>3</td>\n",
       "      <td>47.914865</td>\n",
       "      <td>0</td>\n",
       "      <td>0</td>\n",
       "      <td>0</td>\n",
       "      <td>0</td>\n",
       "      <td>0</td>\n",
       "      <td>1</td>\n",
       "      <td>0</td>\n",
       "      <td>0</td>\n",
       "    </tr>\n",
       "  </tbody>\n",
       "</table>\n",
       "</div>"
      ],
      "text/plain": [
       "   Var1  Var2  Var5  Reg_Camp_gap  IntReg_Lag  Camp_duration        Age  \\\n",
       "0     1     0     2            89        1201             66  44.000000   \n",
       "1     0     0     0            68         538              5  41.000000   \n",
       "2     0     0     0           454         113            580  47.914865   \n",
       "3     0     0     0            83           2              5  47.000000   \n",
       "4     0     0     0             4           0              3  47.914865   \n",
       "\n",
       "   Category1_Second  Category1_Third  Category2_B  Category2_C  Category2_D  \\\n",
       "0                 0                1            0            0            0   \n",
       "1                 1                0            0            0            0   \n",
       "2                 0                0            0            0            0   \n",
       "3                 1                0            0            0            1   \n",
       "4                 0                0            0            0            0   \n",
       "\n",
       "   Category2_E  Category2_F  Category2_G  \n",
       "0            0            0            1  \n",
       "1            0            0            0  \n",
       "2            0            1            0  \n",
       "3            0            0            0  \n",
       "4            1            0            0  "
      ]
     },
     "execution_count": 678,
     "metadata": {},
     "output_type": "execute_result"
    }
   ],
   "source": [
    "X_test.head()"
   ]
  },
  {
   "cell_type": "code",
   "execution_count": 694,
   "metadata": {},
   "outputs": [],
   "source": [
    "y_sample_pred = xg.predict_proba(X_test)[:,1]"
   ]
  },
  {
   "cell_type": "code",
   "execution_count": 695,
   "metadata": {},
   "outputs": [
    {
     "data": {
      "text/plain": [
       "array([0.54916334, 0.35958177, 0.14597665, ..., 0.26709846, 0.30894795,\n",
       "       0.45229307], dtype=float32)"
      ]
     },
     "execution_count": 695,
     "metadata": {},
     "output_type": "execute_result"
    }
   ],
   "source": [
    "y_sample_pred"
   ]
  },
  {
   "cell_type": "code",
   "execution_count": 696,
   "metadata": {},
   "outputs": [
    {
     "data": {
      "text/html": [
       "<div>\n",
       "<style scoped>\n",
       "    .dataframe tbody tr th:only-of-type {\n",
       "        vertical-align: middle;\n",
       "    }\n",
       "\n",
       "    .dataframe tbody tr th {\n",
       "        vertical-align: top;\n",
       "    }\n",
       "\n",
       "    .dataframe thead th {\n",
       "        text-align: right;\n",
       "    }\n",
       "</style>\n",
       "<table border=\"1\" class=\"dataframe\">\n",
       "  <thead>\n",
       "    <tr style=\"text-align: right;\">\n",
       "      <th></th>\n",
       "      <th>Outcome</th>\n",
       "      <th>Patient_ID</th>\n",
       "      <th>Health_Camp_ID</th>\n",
       "    </tr>\n",
       "  </thead>\n",
       "  <tbody>\n",
       "    <tr>\n",
       "      <th>0</th>\n",
       "      <td>0.549163</td>\n",
       "      <td>505701</td>\n",
       "      <td>6548</td>\n",
       "    </tr>\n",
       "    <tr>\n",
       "      <th>1</th>\n",
       "      <td>0.359582</td>\n",
       "      <td>500633</td>\n",
       "      <td>6584</td>\n",
       "    </tr>\n",
       "    <tr>\n",
       "      <th>2</th>\n",
       "      <td>0.145977</td>\n",
       "      <td>506945</td>\n",
       "      <td>6582</td>\n",
       "    </tr>\n",
       "    <tr>\n",
       "      <th>3</th>\n",
       "      <td>0.277516</td>\n",
       "      <td>497447</td>\n",
       "      <td>6551</td>\n",
       "    </tr>\n",
       "    <tr>\n",
       "      <th>4</th>\n",
       "      <td>0.059709</td>\n",
       "      <td>496446</td>\n",
       "      <td>6533</td>\n",
       "    </tr>\n",
       "    <tr>\n",
       "      <th>...</th>\n",
       "      <td>...</td>\n",
       "      <td>...</td>\n",
       "      <td>...</td>\n",
       "    </tr>\n",
       "    <tr>\n",
       "      <th>35244</th>\n",
       "      <td>0.507894</td>\n",
       "      <td>507261</td>\n",
       "      <td>6525</td>\n",
       "    </tr>\n",
       "    <tr>\n",
       "      <th>35245</th>\n",
       "      <td>0.340792</td>\n",
       "      <td>513607</td>\n",
       "      <td>6551</td>\n",
       "    </tr>\n",
       "    <tr>\n",
       "      <th>35246</th>\n",
       "      <td>0.267098</td>\n",
       "      <td>498160</td>\n",
       "      <td>6584</td>\n",
       "    </tr>\n",
       "    <tr>\n",
       "      <th>35247</th>\n",
       "      <td>0.308948</td>\n",
       "      <td>502444</td>\n",
       "      <td>6567</td>\n",
       "    </tr>\n",
       "    <tr>\n",
       "      <th>35248</th>\n",
       "      <td>0.452293</td>\n",
       "      <td>523811</td>\n",
       "      <td>6584</td>\n",
       "    </tr>\n",
       "  </tbody>\n",
       "</table>\n",
       "<p>35249 rows × 3 columns</p>\n",
       "</div>"
      ],
      "text/plain": [
       "        Outcome  Patient_ID  Health_Camp_ID\n",
       "0      0.549163      505701            6548\n",
       "1      0.359582      500633            6584\n",
       "2      0.145977      506945            6582\n",
       "3      0.277516      497447            6551\n",
       "4      0.059709      496446            6533\n",
       "...         ...         ...             ...\n",
       "35244  0.507894      507261            6525\n",
       "35245  0.340792      513607            6551\n",
       "35246  0.267098      498160            6584\n",
       "35247  0.308948      502444            6567\n",
       "35248  0.452293      523811            6584\n",
       "\n",
       "[35249 rows x 3 columns]"
      ]
     },
     "execution_count": 696,
     "metadata": {},
     "output_type": "execute_result"
    }
   ],
   "source": [
    "y_sample_pred = pd.DataFrame(y_sample_pred,columns=['Outcome'])\n",
    "y_sample_pred['Patient_ID'] = test['Patient_ID']\n",
    "y_sample_pred['Health_Camp_ID'] = test['Health_Camp_ID']\n",
    "y_sample_pred"
   ]
  },
  {
   "cell_type": "code",
   "execution_count": 697,
   "metadata": {},
   "outputs": [
    {
     "data": {
      "text/html": [
       "<div>\n",
       "<style scoped>\n",
       "    .dataframe tbody tr th:only-of-type {\n",
       "        vertical-align: middle;\n",
       "    }\n",
       "\n",
       "    .dataframe tbody tr th {\n",
       "        vertical-align: top;\n",
       "    }\n",
       "\n",
       "    .dataframe thead th {\n",
       "        text-align: right;\n",
       "    }\n",
       "</style>\n",
       "<table border=\"1\" class=\"dataframe\">\n",
       "  <thead>\n",
       "    <tr style=\"text-align: right;\">\n",
       "      <th></th>\n",
       "      <th>Patient_ID</th>\n",
       "      <th>Health_Camp_ID</th>\n",
       "      <th>Outcome</th>\n",
       "    </tr>\n",
       "  </thead>\n",
       "  <tbody>\n",
       "    <tr>\n",
       "      <th>0</th>\n",
       "      <td>505701</td>\n",
       "      <td>6548</td>\n",
       "      <td>0.549163</td>\n",
       "    </tr>\n",
       "    <tr>\n",
       "      <th>1</th>\n",
       "      <td>500633</td>\n",
       "      <td>6584</td>\n",
       "      <td>0.359582</td>\n",
       "    </tr>\n",
       "    <tr>\n",
       "      <th>2</th>\n",
       "      <td>506945</td>\n",
       "      <td>6582</td>\n",
       "      <td>0.145977</td>\n",
       "    </tr>\n",
       "    <tr>\n",
       "      <th>3</th>\n",
       "      <td>497447</td>\n",
       "      <td>6551</td>\n",
       "      <td>0.277516</td>\n",
       "    </tr>\n",
       "    <tr>\n",
       "      <th>4</th>\n",
       "      <td>496446</td>\n",
       "      <td>6533</td>\n",
       "      <td>0.059709</td>\n",
       "    </tr>\n",
       "    <tr>\n",
       "      <th>...</th>\n",
       "      <td>...</td>\n",
       "      <td>...</td>\n",
       "      <td>...</td>\n",
       "    </tr>\n",
       "    <tr>\n",
       "      <th>35244</th>\n",
       "      <td>507261</td>\n",
       "      <td>6525</td>\n",
       "      <td>0.507894</td>\n",
       "    </tr>\n",
       "    <tr>\n",
       "      <th>35245</th>\n",
       "      <td>513607</td>\n",
       "      <td>6551</td>\n",
       "      <td>0.340792</td>\n",
       "    </tr>\n",
       "    <tr>\n",
       "      <th>35246</th>\n",
       "      <td>498160</td>\n",
       "      <td>6584</td>\n",
       "      <td>0.267098</td>\n",
       "    </tr>\n",
       "    <tr>\n",
       "      <th>35247</th>\n",
       "      <td>502444</td>\n",
       "      <td>6567</td>\n",
       "      <td>0.308948</td>\n",
       "    </tr>\n",
       "    <tr>\n",
       "      <th>35248</th>\n",
       "      <td>523811</td>\n",
       "      <td>6584</td>\n",
       "      <td>0.452293</td>\n",
       "    </tr>\n",
       "  </tbody>\n",
       "</table>\n",
       "<p>35249 rows × 3 columns</p>\n",
       "</div>"
      ],
      "text/plain": [
       "       Patient_ID  Health_Camp_ID   Outcome\n",
       "0          505701            6548  0.549163\n",
       "1          500633            6584  0.359582\n",
       "2          506945            6582  0.145977\n",
       "3          497447            6551  0.277516\n",
       "4          496446            6533  0.059709\n",
       "...           ...             ...       ...\n",
       "35244      507261            6525  0.507894\n",
       "35245      513607            6551  0.340792\n",
       "35246      498160            6584  0.267098\n",
       "35247      502444            6567  0.308948\n",
       "35248      523811            6584  0.452293\n",
       "\n",
       "[35249 rows x 3 columns]"
      ]
     },
     "execution_count": 697,
     "metadata": {},
     "output_type": "execute_result"
    }
   ],
   "source": [
    "submission_v3 = y_sample_pred[['Patient_ID','Health_Camp_ID','Outcome']]\n",
    "submission_v3"
   ]
  },
  {
   "cell_type": "code",
   "execution_count": 698,
   "metadata": {},
   "outputs": [],
   "source": [
    "submission_v3.to_csv('sample_submission(6).csv',index=False)"
   ]
  },
  {
   "cell_type": "code",
   "execution_count": null,
   "metadata": {},
   "outputs": [],
   "source": []
  }
 ],
 "metadata": {
  "kernelspec": {
   "display_name": "Python 3",
   "language": "python",
   "name": "python3"
  },
  "language_info": {
   "codemirror_mode": {
    "name": "ipython",
    "version": 3
   },
   "file_extension": ".py",
   "mimetype": "text/x-python",
   "name": "python",
   "nbconvert_exporter": "python",
   "pygments_lexer": "ipython3",
   "version": "3.7.7"
  }
 },
 "nbformat": 4,
 "nbformat_minor": 4
}
