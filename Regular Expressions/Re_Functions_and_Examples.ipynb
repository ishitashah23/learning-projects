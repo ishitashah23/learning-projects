{
 "cells": [
  {
   "cell_type": "markdown",
   "metadata": {},
   "source": [
    "## Regular Expressions:\n",
    "\n",
    "These are quite often used in splitting the strings based on an underlying pattern. Python has an inbuilt module named 're'  "
   ]
  },
  {
   "cell_type": "code",
   "execution_count": 1,
   "metadata": {},
   "outputs": [],
   "source": [
    "#Importing the regular expression module\n",
    "import re"
   ]
  },
  {
   "cell_type": "markdown",
   "metadata": {},
   "source": [
    "### 1. Match function"
   ]
  },
  {
   "cell_type": "code",
   "execution_count": 2,
   "metadata": {},
   "outputs": [
    {
     "name": "stdout",
     "output_type": "stream",
     "text": [
      "looking in john williams for the pattern [Jj]ohn\n",
      "Match has been found\n"
     ]
    }
   ],
   "source": [
    "text1 = 'john williams'\n",
    "pattern = '[Jj]ohn' #square bracket indicates a set and both upper and lower case j's will be searched in the string\n",
    "print('looking in', text1, 'for the pattern',pattern)\n",
    "\n",
    "if re.search(pattern,text1): #if true this statement returns a match object which always has a boolean value of True\n",
    "    output = re.search(pattern,text1)\n",
    "    print('Match has been found')\n",
    "else: #re.search returns a None object in the absence of the pattern which is treated as false by the if-else block\n",
    "    print('No match has been found')"
   ]
  },
  {
   "cell_type": "markdown",
   "metadata": {},
   "source": [
    "#### Methods and attributes supported by a match object"
   ]
  },
  {
   "cell_type": "code",
   "execution_count": 3,
   "metadata": {},
   "outputs": [
    {
     "name": "stdout",
     "output_type": "stream",
     "text": [
      "<class 're.Match'>\n",
      "re.compile('[Jj]ohn')\n",
      "john williams\n",
      "0\n",
      "4\n",
      "john\n"
     ]
    }
   ],
   "source": [
    "print(type(output))\n",
    "print(output.re)\n",
    "print(output.string)\n",
    "print(output.start())\n",
    "print(output.end())\n",
    "print(output.group())"
   ]
  },
  {
   "cell_type": "markdown",
   "metadata": {},
   "source": [
    "### 2. Search function"
   ]
  },
  {
   "cell_type": "markdown",
   "metadata": {},
   "source": [
    "- Similar to match function \n",
    "- Includes flag options like (also present in match function)\n",
    "    - re.IGNORECASE \n",
    "    - re.LOCALE \n",
    "    - re.MULTILINE\n",
    "    - re.DOTALL\n",
    "    - re. UNICODE\n",
    "    - re.VERBOSE"
   ]
  },
  {
   "cell_type": "markdown",
   "metadata": {},
   "source": [
    "### Difference between match() and search(): \n",
    "- match() checks for a match only at the beginning of the string\n",
    "- search() checks for a match anywhere in the string"
   ]
  },
  {
   "cell_type": "markdown",
   "metadata": {},
   "source": [
    "#### Example 1 "
   ]
  },
  {
   "cell_type": "code",
   "execution_count": 5,
   "metadata": {},
   "outputs": [
    {
     "name": "stdout",
     "output_type": "stream",
     "text": [
      "Line 1 contains an integer\n"
     ]
    }
   ],
   "source": [
    "line1 = 'The price is 23.55'\n",
    "containsIntegers = r'\\d+' \n",
    "\n",
    "#'r' before any string indicates a raw string e.g. \\n is not considered a new line\n",
    "# \\d returns a match where the string contains digits (0-9)\n",
    "# + returns one or more occurences of preceding pattern (i.e. \\d)\n",
    "\n",
    "if re.search(containsIntegers, line1):\n",
    "    print('Line 1 contains an integer')\n",
    "else:\n",
    "    print('Line 1 does not contain an integer')"
   ]
  },
  {
   "cell_type": "markdown",
   "metadata": {},
   "source": [
    "#### Example 2"
   ]
  },
  {
   "cell_type": "code",
   "execution_count": 6,
   "metadata": {},
   "outputs": [
    {
     "name": "stdout",
     "output_type": "stream",
     "text": [
      "Set Fire to the Rain\n"
     ]
    }
   ],
   "source": [
    "# Alternative words\n",
    "music = r'Beatles|Adele|Gorillaz' #this string looks for any of the 3 artists if present in the text\n",
    "request = 'Play some Adele'\n",
    "\n",
    "if re.search(music, request):\n",
    "    print('Set Fire to the Rain')\n",
    "else:\n",
    "    print('No Adele Available')"
   ]
  },
  {
   "cell_type": "markdown",
   "metadata": {},
   "source": [
    "### 3. FIndall function\n",
    "\n",
    "Returns a list containing all non-overlapping matches of pattern in string "
   ]
  },
  {
   "cell_type": "code",
   "execution_count": 11,
   "metadata": {},
   "outputs": [
    {
     "name": "stdout",
     "output_type": "stream",
     "text": [
      "['Spain', 'plain']\n"
     ]
    }
   ],
   "source": [
    "text = r'The rain in Spain stays mainly on the plain'\n",
    "\n",
    "#find substring starting with 2 letters (upper or lower case) followed by 'ai' and a single character\n",
    "results = re.findall('[a-zA-Z]{2}ai.', text) \n",
    "\n",
    "print(results)"
   ]
  },
  {
   "cell_type": "markdown",
   "metadata": {},
   "source": [
    "### 4. Findinter function"
   ]
  },
  {
   "cell_type": "markdown",
   "metadata": {},
   "source": [
    "Works similar to match function but returns an iterator yielding matched objects"
   ]
  },
  {
   "cell_type": "code",
   "execution_count": 14,
   "metadata": {},
   "outputs": [
    {
     "name": "stdout",
     "output_type": "stream",
     "text": [
      "<callable_iterator object at 0x000002E42310E248>\n",
      "<re.Match object; span=(12, 17), match='Spain'>\n",
      "<re.Match object; span=(38, 43), match='plain'>\n"
     ]
    }
   ],
   "source": [
    "text = r'The rain in Spain stays mainly on the plain'\n",
    "\n",
    "#find substring starting with 2 letters (upper or lower case) followed by 'ai' and a single character\n",
    "results = re.finditer('[a-zA-Z]{2}ai.', text) \n",
    "\n",
    "print(results)\n",
    "\n",
    "for i in results:\n",
    "    print(i)"
   ]
  },
  {
   "cell_type": "markdown",
   "metadata": {},
   "source": [
    "### 5. Split function\n",
    "\n",
    "Returns a list where the string has been split at each matched pattern. Similar to str.split() function"
   ]
  },
  {
   "cell_type": "code",
   "execution_count": 16,
   "metadata": {},
   "outputs": [
    {
     "name": "stdout",
     "output_type": "stream",
     "text": [
      "['It', 'was', 'a', 'hot', 'summer', 'night']\n"
     ]
    }
   ],
   "source": [
    "text = 'It was a hot summer night'\n",
    "\n",
    "#\\s returns a match where the string contains a white space character \n",
    "x = re.split('\\s', text)\n",
    "print(x)"
   ]
  },
  {
   "cell_type": "markdown",
   "metadata": {},
   "source": [
    "### 6. Sub function\n",
    "\n",
    "It allows us to replace the matched pattern with a string of our choice entered as the repl argument. It replaces all occurences unless a max value is specified\n",
    "\n",
    "*re.sub(pattern,repl,string,max=0)*"
   ]
  },
  {
   "cell_type": "code",
   "execution_count": 18,
   "metadata": {},
   "outputs": [
    {
     "name": "stdout",
     "output_type": "stream",
     "text": [
      "England for football, England for Rugby and England for the Highland games\n"
     ]
    }
   ],
   "source": [
    "pattern = '(England|Wales|Scotland)' #find either of the three terms\n",
    "\n",
    "text = 'England for football, Wales for Rugby and Scotland for the Highland games'\n",
    "\n",
    "print(re.sub(pattern, 'England', text))"
   ]
  },
  {
   "cell_type": "code",
   "execution_count": 19,
   "metadata": {},
   "outputs": [
    {
     "name": "stdout",
     "output_type": "stream",
     "text": [
      "Wales for football, Wales for Rugby and Scotland for the Highland games\n"
     ]
    }
   ],
   "source": [
    "#a count parameter can be added to control the number of matches to be replaced\n",
    "\n",
    "pattern = '(England|Wales|Scotland)'\n",
    "text = 'England for football, Wales for Rugby and Scotland for the Highland games'\n",
    "\n",
    "x = re.sub(pattern, 'Wales', text, 2)\n",
    "print(x)"
   ]
  },
  {
   "cell_type": "markdown",
   "metadata": {},
   "source": [
    "### 7. Subn function\n",
    "\n",
    "Here along with replacing matched strings, we can find the number of substitutions that were made "
   ]
  },
  {
   "cell_type": "code",
   "execution_count": 21,
   "metadata": {},
   "outputs": [
    {
     "name": "stdout",
     "output_type": "stream",
     "text": [
      "('Scotland for football, Scotland for Rugby and Scotland for the Highland games', 3)\n"
     ]
    }
   ],
   "source": [
    "pattern = '(England|Wales|Scotland)'\n",
    "text = 'England for football, Wales for Rugby and Scotland for the Highland games'\n",
    "\n",
    "print(re.subn(pattern,'Scotland',text))"
   ]
  },
  {
   "cell_type": "markdown",
   "metadata": {},
   "source": [
    "### 8. Compile function"
   ]
  },
  {
   "cell_type": "markdown",
   "metadata": {},
   "source": [
    "All the above explained re functions are directly available as module-level functions and as methods on a compiled regular expression object. Compiled regular expression objects support the following methods and attributes - \n",
    "- Pattern.search(string, pos, endpos)\n",
    "- Pattern.match(string, pos, endpos)\n",
    "- Pattern.split(string, maxsplit = 0)\n",
    "- Pattern.findall(string[, pos[, endpos]])\n",
    "- Pattern.finditer(string[, pos[, endpos]])\n",
    "- Pattern.sub(repl, string, count = 0)\n",
    "- Pattern.subn(repl, string, count = 0)\n",
    "- Pattern.pattern"
   ]
  },
  {
   "cell_type": "markdown",
   "metadata": {},
   "source": [
    "#### Example 1"
   ]
  },
  {
   "cell_type": "code",
   "execution_count": 22,
   "metadata": {},
   "outputs": [
    {
     "name": "stdout",
     "output_type": "stream",
     "text": [
      "Line 1 contains a number\n"
     ]
    }
   ],
   "source": [
    "line1 = 'The price is 23.55'\n",
    "containsIntegers = r'\\d+'\n",
    "rePattern = re.compile(containsIntegers) #compiled pattern can be reused later on\n",
    "matchLine1 = rePattern.search(line1)\n",
    "if matchLine1:\n",
    "    print('Line 1 contains a number')\n",
    "else:\n",
    "    print('Line 1 does not contain a number')"
   ]
  },
  {
   "cell_type": "markdown",
   "metadata": {},
   "source": [
    "#### Example 2"
   ]
  },
  {
   "cell_type": "code",
   "execution_count": 23,
   "metadata": {},
   "outputs": [
    {
     "name": "stdout",
     "output_type": "stream",
     "text": [
      "['20', 'High', 'Street']\n"
     ]
    }
   ],
   "source": [
    "p = re.compile(r'\\W+')\n",
    "s = '20 High Street'\n",
    "print(p.split(s))"
   ]
  },
  {
   "cell_type": "markdown",
   "metadata": {},
   "source": [
    "### Online Resources:\n",
    "\n",
    "See the Python Standard Library documentation for:\n",
    "- https://docs.python.org/3/howto/regex.html Standard Library regular expression\n",
    "how to.\n",
    "- https://pymotw.com/3/re/index.html the Python Module of the Week page for\n",
    "the re module.\n",
    "\n",
    "Other online resources include\n",
    "- https://regexone.com An introduction to regular expressions.\n",
    "- https://www.regular-expressions.info/tutorial.html a regular expressions tutorial.\n",
    "- https://www.regular-expressions.info/quickstart.html regular expressions quick\n",
    "start.\n",
    "- https://pypi.org/project/regex A well known third party regular expression\n",
    "module that extends the functionality offered by the builtin re module."
   ]
  },
  {
   "cell_type": "markdown",
   "metadata": {},
   "source": [
    "**Reference Book** : Advanced Guide to Python 3 Program, 2019"
   ]
  }
 ],
 "metadata": {
  "kernelspec": {
   "display_name": "Python 3",
   "language": "python",
   "name": "python3"
  },
  "language_info": {
   "codemirror_mode": {
    "name": "ipython",
    "version": 3
   },
   "file_extension": ".py",
   "mimetype": "text/x-python",
   "name": "python",
   "nbconvert_exporter": "python",
   "pygments_lexer": "ipython3",
   "version": "3.7.7"
  }
 },
 "nbformat": 4,
 "nbformat_minor": 4
}
