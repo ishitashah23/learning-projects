{
 "cells": [
  {
   "cell_type": "markdown",
   "metadata": {},
   "source": [
    "### Problem 1\n",
    "Write a Python function to verify that a given string only contains letters (upper case or lower case) and numbers. Thus spaces and underbars (‘_’) are not allowed. An example of the use of this function might be:\n",
    "    - print(contains_only_characters_and_numbers('John')) # True\n",
    "    - print(contains_only_characters_and_numbers('John_Hunt')) #False\n",
    "    - print(contains_only_characters_and_numbers('42')) # True\n",
    "    - print(contains_only_characters_and_numbers('John42')) # True\n",
    "    - print(contains_only_characters_and_numbers('John 42')) # False"
   ]
  },
  {
   "cell_type": "code",
   "execution_count": null,
   "metadata": {},
   "outputs": [],
   "source": []
  },
  {
   "cell_type": "markdown",
   "metadata": {},
   "source": [
    "### Problem 2\n",
    "\n",
    "Write a function to verify a UK Postcode format (call it verify_postcode).The format of a Postcode is two letters followed by 1 or 2 numbers, followed by a space, followed by one or two numbers and finally two letters. An Example of a postcode is SY23 4ZZ another postcode might be BB1 3PO and finally we might have AA1 56NN (note this is a simplification of the UK Postcode system but is suitable for our purposes). Using the output from this function you should be able to run the following test code:\n",
    "    - True\n",
    "    print(\"verify_postcode('SY23 3AA'):\", verify_postcode('SY23 33AA'))\n",
    "    - True\n",
    "    print(\"verify_postcode('SY23 4ZZ'):\", verify_postcode('SY23 4ZZ'))\n",
    "    - True\n",
    "    print(\"verify_postcode('BB1 3PO'):\", verify_postcode('BB1 3PO'))\n",
    "    - False\n",
    "    print(\"verify_postcode('AA111 NN56'):\", verify_postcode('AA111 NN56'))\n",
    "    - True\n",
    "    print(\"verify_postcode('AA1 56NN'):\", verify_postcode('AA1\n",
    "    56NN'))\n",
    "    - False\n",
    "    print(\"verify_postcode('AA156NN'):\", verify_postcode('AA156NN'))\n",
    "    - False\n",
    "    print(\"verify_postcode('AA NN'):\", verify_postcode('AA NN'))"
   ]
  },
  {
   "cell_type": "code",
   "execution_count": null,
   "metadata": {},
   "outputs": [],
   "source": []
  },
  {
   "cell_type": "markdown",
   "metadata": {},
   "source": [
    "### Problem 3\n",
    "\n",
    "Write a function that will extract the value held between two strings or characters such as ‘<’ and ‘>’. The function should take three parameters, the start character, the end character and the string to process. For example, the following code snippet: Should generate output such as:\n",
    "    - print(extract_values('<', '>', '<John>'))\n",
    "    - print(extract_values('<', '>', '<42>'))\n",
    "    - print(extract_values('<', '>', '<John 42>'))\n",
    "    - print(extract_values('<', '>', 'The <town> was in the <valley>'))\n",
    "    \n",
    "    Should generate output as - \n",
    "    - ['John']\n",
    "    - ['42']\n",
    "    - ['John 42']\n",
    "    - ['town', 'valley']"
   ]
  },
  {
   "cell_type": "code",
   "execution_count": null,
   "metadata": {},
   "outputs": [],
   "source": []
  },
  {
   "cell_type": "markdown",
   "metadata": {},
   "source": [
    "**Reference Book** : Advanced Guide to Python 3 Program, 2019"
   ]
  }
 ],
 "metadata": {
  "kernelspec": {
   "display_name": "Python 3",
   "language": "python",
   "name": "python3"
  },
  "language_info": {
   "codemirror_mode": {
    "name": "ipython",
    "version": 3
   },
   "file_extension": ".py",
   "mimetype": "text/x-python",
   "name": "python",
   "nbconvert_exporter": "python",
   "pygments_lexer": "ipython3",
   "version": "3.7.7"
  }
 },
 "nbformat": 4,
 "nbformat_minor": 4
}
